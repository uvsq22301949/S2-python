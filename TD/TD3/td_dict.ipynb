{
 "cells": [
  {
   "cell_type": "markdown",
   "metadata": {},
   "source": [
    "# <center> Dictionnaires - TD </center>"
   ]
  },
  {
   "cell_type": "markdown",
   "metadata": {},
   "source": [
    "## Exercice 1 : Test de de compréhension*"
   ]
  },
  {
   "cell_type": "markdown",
   "metadata": {},
   "source": [
    "* Soit le dictionnaire suivant représentant des informations sur les étudiants inscrits au cours"
   ]
  },
  {
   "cell_type": "code",
   "execution_count": 2,
   "metadata": {},
   "outputs": [],
   "source": [
    "cours = {'nom cours': 'Java',\n",
    " 'theme': 'Algorithmique',\n",
    " 'etudiants': [{'nom': 'Martin', 'prenom': 'Jean', 'Dept': '95'},\n",
    "  {'nom': 'Mohamed', 'prenom': 'Ali', 'Dept': '93'},\n",
    "  {'nom': 'Durand', 'prenom': 'Bertrand', 'Dept': '95'}]}"
   ]
  },
  {
   "cell_type": "markdown",
   "metadata": {},
   "source": [
    "* Que permettent de faire les commandes suivantes ?"
   ]
  },
  {
   "cell_type": "code",
   "execution_count": 3,
   "metadata": {},
   "outputs": [
    {
     "name": "stdout",
     "output_type": "stream",
     "text": [
      "['Java', 'Algorithmique', [{'nom': 'Martin', 'prenom': 'Jean', 'Dept': '95'}, {'nom': 'Mohamed', 'prenom': 'Ali', 'Dept': '93'}, {'nom': 'Durand', 'prenom': 'Bertrand', 'Dept': '95'}]]\n"
     ]
    }
   ],
   "source": [
    "print(list(cours.values()))"
   ]
  },
  {
   "cell_type": "code",
   "execution_count": 4,
   "metadata": {},
   "outputs": [
    {
     "name": "stdout",
     "output_type": "stream",
     "text": [
      "['nom cours', 'theme', 'etudiants']\n"
     ]
    }
   ],
   "source": [
    "print(list(cours))"
   ]
  },
  {
   "cell_type": "code",
   "execution_count": 5,
   "metadata": {},
   "outputs": [
    {
     "name": "stdout",
     "output_type": "stream",
     "text": [
      "Algorithmique\n"
     ]
    }
   ],
   "source": [
    "print(cours['theme'])"
   ]
  },
  {
   "cell_type": "code",
   "execution_count": 6,
   "metadata": {},
   "outputs": [
    {
     "name": "stdout",
     "output_type": "stream",
     "text": [
      "Martin\n"
     ]
    }
   ],
   "source": [
    "tabE=cours['etudiants']\n",
    "etud= tabE[0]\n",
    "print(etud['nom'])"
   ]
  },
  {
   "cell_type": "markdown",
   "metadata": {},
   "source": [
    "**REPONSE**"
   ]
  },
  {
   "cell_type": "markdown",
   "metadata": {},
   "source": [
    "* Comment peut-on avoir les informations sur les étudiants inscrits à ce cours  ?"
   ]
  },
  {
   "cell_type": "code",
   "execution_count": 9,
   "metadata": {},
   "outputs": [
    {
     "name": "stdout",
     "output_type": "stream",
     "text": [
      "\n",
      "NOM: Martin\n",
      "Prenom: Jean\n",
      "Depart: 95\n",
      "\n",
      "NOM: Mohamed\n",
      "Prenom: Ali\n",
      "Depart: 93\n",
      "\n",
      "NOM: Durand\n",
      "Prenom: Bertrand\n",
      "Depart: 95\n"
     ]
    }
   ],
   "source": [
    "#-------------------------#\n",
    "#    Écrire le code ici   #\n",
    "#-------------------------#\n",
    "for i in range(3):\n",
    "    print('\\nNOM:',cours[\"etudiants\"][i]['nom'])\n",
    "    print('Prenom:',cours[\"etudiants\"][i]['prenom'])\n",
    "    print('Depart:',cours[\"etudiants\"][i]['Dept'])\n"
   ]
  },
  {
   "cell_type": "markdown",
   "metadata": {
    "deletable": false,
    "editable": false,
    "run_control": {
     "frozen": true
    }
   },
   "source": [
    "* Qu'affiche le programme suivant ?"
   ]
  },
  {
   "cell_type": "code",
   "execution_count": 10,
   "metadata": {},
   "outputs": [
    {
     "name": "stdout",
     "output_type": "stream",
     "text": [
      "{'nom': 'Mohamed', 'prenom': 'Ali', 'Dept': '93'}\n",
      "93\n"
     ]
    }
   ],
   "source": [
    "etds=cours['etudiants']\n",
    "tmp1=etds[1]\n",
    "print(tmp1)\n",
    "pr=tmp1['Dept']\n",
    "print(pr)"
   ]
  },
  {
   "cell_type": "markdown",
   "metadata": {},
   "source": [
    "**REPONSE**\n",
    "le dept de ali"
   ]
  },
  {
   "cell_type": "markdown",
   "metadata": {
    "deletable": false,
    "editable": false,
    "run_control": {
     "frozen": true
    }
   },
   "source": [
    "* Qu'affiche cette instruction ?"
   ]
  },
  {
   "cell_type": "code",
   "execution_count": 11,
   "metadata": {},
   "outputs": [
    {
     "name": "stdout",
     "output_type": "stream",
     "text": [
      "93\n"
     ]
    }
   ],
   "source": [
    "print (cours['etudiants'][1]['Dept'])"
   ]
  },
  {
   "cell_type": "markdown",
   "metadata": {},
   "source": [
    "**REPONSE** \n",
    "93"
   ]
  },
  {
   "cell_type": "markdown",
   "metadata": {
    "deletable": false,
    "editable": false,
    "run_control": {
     "frozen": true
    }
   },
   "source": [
    "## Exercice 2 : Planètes et satellites \n",
    "### Question 1 : Définition d'un dictionnaire"
   ]
  },
  {
   "cell_type": "markdown",
   "metadata": {
    "deletable": false,
    "editable": false,
    "run_control": {
     "frozen": true
    }
   },
   "source": [
    "Définir le dictionnaire `lunes` représenté ci-dessous. Ce dictionnaire stocke le nombre de satellites de chaque planète. Dans un premier temps, définir de façon littérale le dictionnaire pour les 4 premiers couples ``clef:valeur`` puis ajouter successivement les 4 derniers couples.\n",
    "\n",
    "clef| \"Mercure\"|\"Vénus\"|\"Terre\"|\"Mars\"|\"Jupiter\"|\"Saturne\"|\"Uranus\"|\"Neptune\"|\n",
    "----|----------|-------|-------|------|---------|---------|--------|---------|\n",
    "valeur |0|0|1|2|63|61|27|11|\n"
   ]
  },
  {
   "cell_type": "code",
   "execution_count": 2,
   "metadata": {},
   "outputs": [
    {
     "name": "stdout",
     "output_type": "stream",
     "text": [
      "{'Mercure': 0, 'Venus': 0, 'Terre': 1, 'Mars': 2, 'Jupiter': 63, 'Saturne': 61, 'Uranus': 27, 'Neptune': 11}\n"
     ]
    }
   ],
   "source": [
    "#-------------------------#\n",
    "#    Écrire le code ici   #\n",
    "#-------------------------#\n",
    "\n",
    "lunes={'Mercure': 0,'Venus': 0,'Terre':1,\"Mars\":2}\n",
    "lunes[\"Jupiter\"]=63\n",
    "lunes[\"Saturne\"]=61\n",
    "lunes[\"Uranus\"]=27\n",
    "lunes[\"Neptune\"]=11\n",
    "print(lunes)"
   ]
  },
  {
   "cell_type": "markdown",
   "metadata": {
    "deletable": false,
    "editable": false,
    "run_control": {
     "frozen": true
    }
   },
   "source": [
    "### Question 2 : Exploration d'un dictionnaire\n",
    "\n",
    "A partir du dictionnaire défini à la question précédente, proposer un programme permettant de:\n",
    "- modifier le dictionnaire précédent pour corriger une erreur qui s'est glissée dans l'énoncé : la planète `Neptune` comporte en fait 13 satellites,\n",
    "- afficher le nombre de satellites de la Terre,\n",
    "- afficher la liste des planètes,\n",
    "- afficher le nombre de satellites de chque planète,\n",
    "- afficher le nombre total de satellites."
   ]
  },
  {
   "cell_type": "code",
   "execution_count": 3,
   "metadata": {},
   "outputs": [
    {
     "name": "stdout",
     "output_type": "stream",
     "text": [
      "1\n",
      "['Mercure', 'Venus', 'Terre', 'Mars', 'Jupiter', 'Saturne', 'Uranus', 'Neptune']\n",
      "[0, 0, 1, 2, 63, 61, 27, 13]\n",
      "167\n"
     ]
    }
   ],
   "source": [
    "#-------------------------#\n",
    "#    Écrire le code ici   #\n",
    "#-------------------------#\n",
    "lunes[\"Neptune\"]=13\n",
    "print(lunes[\"Terre\"])\n",
    "print(list(lunes))\n",
    "print(list(lunes.values()))\n",
    "print(sum(list(lunes.values())))"
   ]
  },
  {
   "cell_type": "markdown",
   "metadata": {
    "deletable": false,
    "editable": false,
    "run_control": {
     "frozen": true
    }
   },
   "source": [
    "## Exercice 3 : Gestion d'un stock "
   ]
  },
  {
   "cell_type": "markdown",
   "metadata": {
    "deletable": false,
    "editable": false,
    "run_control": {
     "frozen": true
    }
   },
   "source": [
    "L'objectif est concevoir un programme permettant de gérer un stock d'articles. Pour cela, on doit pouvoir :\n",
    "- ajouter une référence (prix, quantité, et couleur) dans le stock,\n",
    "- calculer le prix total du stock.\n",
    "\n",
    "### Question 1 : Saisie d'une référence\n",
    "Créer une fonction ``ajout_reference()`` sans paramètre qui renvoie un dictionnaire dont les couples ``clef:valeur`` sont:\n",
    "\n",
    "| Clef |  Valeur (type) |\n",
    "-------|----------|\n",
    "|\"Prix\"| float|\n",
    "|\"Quantité\"| int|\n",
    "|\"Couleur\"| string|\n",
    "\n",
    "La fonction demandera à l'utilisateur de saisir itérativement au clavier les différentes valeurs."
   ]
  },
  {
   "cell_type": "code",
   "execution_count": 5,
   "metadata": {},
   "outputs": [],
   "source": [
    "def ajout_ref():\n",
    "    ref={}\n",
    "    ref[\"prix\"]=float(input('prix: '))\n",
    "    ref[\"quantite\"]=int(input('quantité: '))\n",
    "    ref['couleur']=input('couleur: ')\n",
    "    return ref"
   ]
  },
  {
   "cell_type": "markdown",
   "metadata": {
    "deletable": false,
    "editable": false,
    "run_control": {
     "frozen": true
    }
   },
   "source": [
    "### Question 2 : Saisie et évaluation d'un stock\n",
    "Ecrire le programme principal permettant, de saisir des références tant que l'utilisateur le souhaite, de les ajouter au fur et à mesure dans un tableau, puis en fin de saisie, d'afficher le montant total du stock.\n",
    "On utilisera la fonction définie à la question précédente."
   ]
  },
  {
   "cell_type": "code",
   "execution_count": 9,
   "metadata": {},
   "outputs": [
    {
     "name": "stdout",
     "output_type": "stream",
     "text": [
      "150000.0\n",
      "30399996.0\n"
     ]
    },
    {
     "ename": "ValueError",
     "evalue": "could not convert string to float: ''",
     "output_type": "error",
     "traceback": [
      "\u001b[1;31m---------------------------------------------------------------------------\u001b[0m",
      "\u001b[1;31mValueError\u001b[0m                                Traceback (most recent call last)",
      "Cell \u001b[1;32mIn[9], line 4\u001b[0m\n\u001b[0;32m      2\u001b[0m montant_total\u001b[38;5;241m=\u001b[39m\u001b[38;5;241m0\u001b[39m\n\u001b[0;32m      3\u001b[0m \u001b[38;5;28;01mwhile\u001b[39;00m \u001b[38;5;28;01mTrue\u001b[39;00m:\n\u001b[1;32m----> 4\u001b[0m     stock\u001b[38;5;241m.\u001b[39mappend(ajout_ref())\n\u001b[0;32m      7\u001b[0m     \u001b[38;5;28;01mfor\u001b[39;00m i \u001b[38;5;129;01min\u001b[39;00m \u001b[38;5;28mrange\u001b[39m(\u001b[38;5;28mlen\u001b[39m(stock)):\n\u001b[0;32m      8\u001b[0m         montant_total\u001b[38;5;241m+\u001b[39m\u001b[38;5;241m=\u001b[39mstock[i][\u001b[38;5;124m'\u001b[39m\u001b[38;5;124mprix\u001b[39m\u001b[38;5;124m'\u001b[39m]\u001b[38;5;241m*\u001b[39mstock[i][\u001b[38;5;124m'\u001b[39m\u001b[38;5;124mquantite\u001b[39m\u001b[38;5;124m'\u001b[39m]\n",
      "Cell \u001b[1;32mIn[5], line 3\u001b[0m, in \u001b[0;36majout_ref\u001b[1;34m()\u001b[0m\n\u001b[0;32m      1\u001b[0m \u001b[38;5;28;01mdef\u001b[39;00m \u001b[38;5;21majout_ref\u001b[39m():\n\u001b[0;32m      2\u001b[0m     ref\u001b[38;5;241m=\u001b[39m{}\n\u001b[1;32m----> 3\u001b[0m     ref[\u001b[38;5;124m\"\u001b[39m\u001b[38;5;124mprix\u001b[39m\u001b[38;5;124m\"\u001b[39m]\u001b[38;5;241m=\u001b[39m\u001b[38;5;28mfloat\u001b[39m(\u001b[38;5;28minput\u001b[39m(\u001b[38;5;124m'\u001b[39m\u001b[38;5;124mprix: \u001b[39m\u001b[38;5;124m'\u001b[39m))\n\u001b[0;32m      4\u001b[0m     ref[\u001b[38;5;124m\"\u001b[39m\u001b[38;5;124mquantite\u001b[39m\u001b[38;5;124m\"\u001b[39m]\u001b[38;5;241m=\u001b[39m\u001b[38;5;28mint\u001b[39m(\u001b[38;5;28minput\u001b[39m(\u001b[38;5;124m'\u001b[39m\u001b[38;5;124mquantité: \u001b[39m\u001b[38;5;124m'\u001b[39m))\n\u001b[0;32m      5\u001b[0m     ref[\u001b[38;5;124m'\u001b[39m\u001b[38;5;124mcouleur\u001b[39m\u001b[38;5;124m'\u001b[39m]\u001b[38;5;241m=\u001b[39m\u001b[38;5;28minput\u001b[39m(\u001b[38;5;124m'\u001b[39m\u001b[38;5;124mcouleur: \u001b[39m\u001b[38;5;124m'\u001b[39m)\n",
      "\u001b[1;31mValueError\u001b[0m: could not convert string to float: ''"
     ]
    }
   ],
   "source": [
    "\n",
    "stock=[]\n",
    "montant_total=0\n",
    "while True:\n",
    "    stock.append(ajout_ref())\n",
    "    \n",
    "\n",
    "    for i in range(len(stock)):\n",
    "        montant_total+=stock[i]['prix']*stock[i]['quantite']\n",
    "    print(montant_total)\n",
    "\n"
   ]
  },
  {
   "cell_type": "markdown",
   "metadata": {
    "deletable": false,
    "editable": false,
    "run_control": {
     "frozen": true
    }
   },
   "source": [
    "## Exercice 4 :  Dictionnaire français-anglais "
   ]
  },
  {
   "cell_type": "markdown",
   "metadata": {},
   "source": [
    "### Question 1  : Création d'un dictionnaire\n",
    "\n",
    "Choisir 5 mots de la langue française et créer un dictionnaire qui associe à chacun de ces mots\n",
    "sa traduction en anglais.\n",
    "Ajouter une entrée au dictionnaire  (un nouveau mot et sa définition)."
   ]
  },
  {
   "cell_type": "code",
   "execution_count": 46,
   "metadata": {},
   "outputs": [],
   "source": [
    "trad={'je':'I','robot':'bot','bonjour':'hello','arreter':'Stop','echapper':'escape'}\n",
    "trad['ecole']='school'\n",
    "\n"
   ]
  },
  {
   "cell_type": "markdown",
   "metadata": {},
   "source": [
    "### Question 2  : Fonction d'ajout \n",
    "Écrire une fonction `ajoute(mot1, mot2, dico)` qui prend en paramètre un mot en français, sa traduction\n",
    "en anglais et ajoute ces deux mots dans le dictionnaire `dico` uniquement si `mot1` n’est pas déjà une clé\n",
    "du dictionnaire.\n",
    "\n",
    "Tester cette fonction avec des valeurs judicieusement choisies."
   ]
  },
  {
   "cell_type": "code",
   "execution_count": 21,
   "metadata": {},
   "outputs": [
    {
     "name": "stdout",
     "output_type": "stream",
     "text": [
      "{'robot': 'bot', 'bonjour': 'hello', 'arreter': 'Stop', 'escape': 'echapper', 'ecole': 'school', 'Je': 'I', 'je': 'I'}\n"
     ]
    }
   ],
   "source": [
    "def ajoute(mot1,mot2,dico):\n",
    "    if mot1 not in list(dico):\n",
    "        dico[mot1]=mot2\n",
    "    \n",
    "    return dico\n",
    "\n",
    "\n",
    "\n",
    "\n",
    "trad=ajoute('je','I',trad)\n",
    "print(trad)"
   ]
  },
  {
   "cell_type": "markdown",
   "metadata": {},
   "source": [
    "### Question 3  : Affichage des valeurs\n",
    "Écrire une fonction qui affiche à l’écran toutes les valeurs correspondant aux clés qui sont dans\n",
    "votre dictionnaire  et l'utiliser pour réaliser l'affichage des mots anglais du dictionnaire qui a été crée."
   ]
  },
  {
   "cell_type": "code",
   "execution_count": 28,
   "metadata": {},
   "outputs": [
    {
     "name": "stdout",
     "output_type": "stream",
     "text": [
      "['I', 'bot', 'hello', 'Stop', 'echapper', 'school']\n"
     ]
    }
   ],
   "source": [
    "def affichage(dico):\n",
    "    print(list(dico.values()))\n",
    "\n",
    "affichage(trad)"
   ]
  },
  {
   "cell_type": "markdown",
   "metadata": {},
   "source": [
    "### Question 4 : Suppression d'entrées du dictionnaire\n",
    "Écrire une fonction `supprime(car, dico)` qui prend en paramètre un caractère `car` et un dictionnaire\n",
    "`dico` et supprime du dictionnaire toutes les entrées correspondant à des clés qui commencent par la\n",
    "lettre `car`.\n",
    "\n",
    "Tester cette fonction sur le dictionnaire."
   ]
  },
  {
   "cell_type": "code",
   "execution_count": 48,
   "metadata": {},
   "outputs": [
    {
     "name": "stdout",
     "output_type": "stream",
     "text": [
      "{'je': 'I', 'robot': 'bot', 'bonjour': 'hello', 'arreter': 'Stop', 'ecole': 'school'}\n",
      "5\n",
      "['je', 'robot', 'bonjour', 'arreter', 'ecole']\n",
      "je\n",
      "False\n",
      "0\n",
      "re\n",
      "False\n",
      "1\n",
      "be\n",
      "False\n",
      "2\n",
      "ae\n",
      "False\n",
      "3\n",
      "ee\n",
      "True\n",
      "4\n",
      "['ecole']\n",
      "0\n",
      "{'je': 'I', 'robot': 'bot', 'bonjour': 'hello', 'arreter': 'Stop'}\n"
     ]
    }
   ],
   "source": [
    "def supprime(car,dico):\n",
    "    print(len(list(dico)))\n",
    "    print(list(dico))\n",
    "    element_a_del=[]\n",
    "    for i in range(len(list(dico))):\n",
    "\n",
    "        print(list(dico)[i][0],end=\"\")\n",
    "        print(car)\n",
    "        print(list(dico)[i][0]==car)\n",
    "        print(i)\n",
    "        if list(dico)[i][0]==car:\n",
    "            element_a_del.append(list(dico)[i])\n",
    "    \n",
    "    print(element_a_del)\n",
    "    for k in range(len(element_a_del)):\n",
    "        print(k)\n",
    "        \n",
    "        del(dico[element_a_del[k]])\n",
    "\n",
    "print(trad)\n",
    "supprime('e',trad)\n",
    "print(trad)"
   ]
  },
  {
   "cell_type": "markdown",
   "metadata": {},
   "source": [
    "## Exercice 5 : Codage de Morse"
   ]
  },
  {
   "cell_type": "markdown",
   "metadata": {},
   "source": [
    "Le Morse est un schéma de codage qui utilise des tirets et des points pour représenter les chiffres et les lettres. \n",
    "\n",
    "Le dictionnaire ci-dessous donne la correspondance entre les lettres et les chiffres, les tirets et les points. "
   ]
  },
  {
   "cell_type": "code",
   "execution_count": 49,
   "metadata": {},
   "outputs": [],
   "source": [
    "morse_code_dict = {'A':'.-'   , 'B':'-...' , 'C':'-.-.' , 'D':'-..'  , 'E':'.'    , 'F':'..-.' , 'G':'--.'  , \n",
    "                   'H':'....' , 'I':'..'   , 'J':'.---' , 'K':'-.-'  , 'L':'.-..' , 'M':'--'   , 'N':'-.'   , \n",
    "                   'O':'---'  , 'P':'.--.' , 'Q':'--.-' , 'R':'.-.'  , 'S':'...'  , 'T':'-'    , 'U':'..-'  , \n",
    "                   'V':'...-' , 'W':'.--'  , 'X':'-..-' , 'Y':'-.--' , 'Z':'--..' , '0':'-----', '1':'.----', \n",
    "                   '2':'..---', '3':'...--', '4':'....-', '5':'.....', '6':'-....', '7':'--...', '8':'---..', \n",
    "                   '9':'----.'}"
   ]
  },
  {
   "cell_type": "markdown",
   "metadata": {},
   "source": [
    "Ecrire une fonction qui prend en paramètre un texte, transforme les minuscules en majuscules et traduit chaque lettre et chaque chiffre du texte en code Morse, en laissant un espace entre chaque suite de tirets et de points. La fonction ignorera tous les caractères qui ne sont pas des lettres ou des chiffres. \n",
    "\n",
    "Utiliser cette fonction pour coder en Morse `Hello world !`.\n",
    "\n",
    "**Rappel** : \n",
    "\n",
    "- La méthode `chaine.upper()` retourne la chaine de caractères obtenue à partir de `chaine`en remplaçant les lettres minuscules par des lettres majuscules.\n",
    "- La méthode `chaine.isalnum()` retoune `True` si tous les caractères de `chaine`sont alphanumériques (lettres ou chiffres) et qu'il y a au moins un caractère et `False` dans le cas contraire."
   ]
  },
  {
   "cell_type": "code",
   "execution_count": 60,
   "metadata": {},
   "outputs": [
    {
     "name": "stdout",
     "output_type": "stream",
     "text": [
      "['A', 'B', 'C', 'D', 'E', 'F', 'G', 'H', 'I', 'J', 'K', 'L', 'M', 'N', 'O', 'P', 'Q', 'R', 'S', 'T', 'U', 'V', 'W', 'X', 'Y', 'Z', '0', '1', '2', '3', '4', '5', '6', '7', '8', '9']\n",
      "HELLO WORLD !\n"
     ]
    },
    {
     "data": {
      "text/plain": [
       "'......-...-..--- .-----.-..-..-.. !'"
      ]
     },
     "execution_count": 60,
     "metadata": {},
     "output_type": "execute_result"
    }
   ],
   "source": [
    "import string as si\n",
    "alphabet= list(si.ascii_uppercase)\n",
    "for i in range(10):\n",
    "    alphabet.append(str(i))\n",
    "\n",
    "print(alphabet)\n",
    "\n",
    "def code_morse(chaine):\n",
    "    chaine=chaine.upper()\n",
    "    print(chaine)\n",
    "    chaine_morse=''\n",
    "    for i in range(len(chaine)):\n",
    "        if chaine[i] in alphabet:\n",
    "            chaine_morse+=morse_code_dict[chaine[i]]\n",
    "\n",
    "        else:\n",
    "            chaine_morse+=chaine[i]\n",
    "    \n",
    "    return chaine_morse\n",
    "\n",
    "code_morse('Hello world !')"
   ]
  },
  {
   "cell_type": "code",
   "execution_count": null,
   "metadata": {},
   "outputs": [],
   "source": []
  }
 ],
 "metadata": {
  "celltoolbar": "Format de la Cellule Texte Brut",
  "kernelspec": {
   "display_name": "Python 3",
   "language": "python",
   "name": "python3"
  },
  "language_info": {
   "codemirror_mode": {
    "name": "ipython",
    "version": 3
   },
   "file_extension": ".py",
   "mimetype": "text/x-python",
   "name": "python",
   "nbconvert_exporter": "python",
   "pygments_lexer": "ipython3",
   "version": "3.11.4"
  },
  "latex_envs": {
   "LaTeX_envs_menu_present": true,
   "autoclose": false,
   "autocomplete": true,
   "bibliofile": "biblio.bib",
   "cite_by": "apalike",
   "current_citInitial": 1,
   "eqLabelWithNumbers": true,
   "eqNumInitial": 1,
   "hotkeys": {
    "equation": "Ctrl-E",
    "itemize": "Ctrl-I"
   },
   "labels_anchors": false,
   "latex_user_defs": false,
   "report_style_numbering": false,
   "user_envs_cfg": false
  },
  "toc": {
   "base_numbering": 1,
   "nav_menu": {},
   "number_sections": true,
   "sideBar": true,
   "skip_h1_title": false,
   "title_cell": "Table of Contents",
   "title_sidebar": "Contents",
   "toc_cell": false,
   "toc_position": {},
   "toc_section_display": true,
   "toc_window_display": false
  }
 },
 "nbformat": 4,
 "nbformat_minor": 2
}
