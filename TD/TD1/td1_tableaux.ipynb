{
 "cells": [
  {
   "cell_type": "markdown",
   "metadata": {
    "deletable": false,
    "editable": false,
    "run_control": {
     "frozen": true
    }
   },
   "source": [
    "# TD : Listes en python "
   ]
  },
  {
   "cell_type": "markdown",
   "metadata": {
    "deletable": false,
    "editable": false,
    "run_control": {
     "frozen": true
    }
   },
   "source": [
    "## Exercice 1 : Insertion dans un tableau"
   ]
  },
  {
   "cell_type": "markdown",
   "metadata": {
    "deletable": false,
    "editable": false,
    "run_control": {
     "frozen": true
    }
   },
   "source": [
    "Définir une fonction `insertion_tableau` prenant en paramètre une liste `L`, une valeur `v` et un indice `i` et insérant la valeur `v` à l'indice `i` dans `L` (fonction comparable à `L.insert(i,v)` définie en Python). \n",
    "\n",
    "Cette fonction ne doit pas utiliser la fonction `L.insert`, seule la fonction  `L.append` est permise pour augmenter la taille du tableau."
   ]
  },
  {
   "cell_type": "code",
   "execution_count": 24,
   "id": "b2951a4e",
   "metadata": {
    "tags": [
     "answer"
    ]
   },
   "outputs": [
    {
     "data": {
      "text/plain": [
       "[1, 2, 3, 4, 6, 7, 8, 9, 5]"
      ]
     },
     "execution_count": 24,
     "metadata": {},
     "output_type": "execute_result"
    }
   ],
   "source": [
    "def insertion_tableau (L,v,i):\n",
    "\n",
    "    a=L[i]\n",
    "    L[i]=v\n",
    "    #print(L[i])\n",
    "    #print(L)\n",
    "    L.append(L[len(L)-1])\n",
    "    #print(L)\n",
    "    for j in range(i,len(L)-i):\n",
    "        #print(\"j=\",j)\n",
    "        #print('len(l)-j=',len(L)-j)\n",
    "        #print( L[len(L)-j])\n",
    "        #print( L[len(L)-j-1])\n",
    "        L[len(L)-j]=L[len(L)-j-1]\n",
    "        #print( L[len(L)-j])\n",
    "        #print( L[len(L)-j-1])\n",
    "    \n",
    "    L[i+1]=a\n",
    "    return L\n",
    "\n",
    "\n",
    "insertion_tableau([1,2,4,6,7,8,9,5],3,2)\n",
    "\n",
    "\n",
    "\n",
    "\n"
   ]
  },
  {
   "cell_type": "markdown",
   "id": "83fb7a31",
   "metadata": {
    "deletable": false,
    "editable": false,
    "run_control": {
     "frozen": true
    }
   },
   "source": [
    "Quelle est la complexité asymptotique de la fonction `insertion_tableau` ?"
   ]
  },
  {
   "cell_type": "markdown",
   "id": "10fa05da",
   "metadata": {
    "deletable": false,
    "run_control": {
     "frozen": false
    },
    "tags": [
     "answer"
    ]
   },
   "source": [
    "**Réponse :** Écrire votre réponse ici.\n",
    "O(4n+5)\n",
    "\n"
   ]
  },
  {
   "cell_type": "markdown",
   "id": "ebc9baad",
   "metadata": {
    "deletable": false,
    "editable": false,
    "run_control": {
     "frozen": true
    }
   },
   "source": [
    "## Exercice 2 : suppression d'un élément dans un tableau\n",
    "\n",
    "Définir la fonction `suppression_tableau` prenant en paramètre un tableau et un indice et supprimant dans le tableau l'élément se trouvant à l'indice donné (fonction similaire à `L.pop(i)`). \n",
    "\n",
    "Pour supprimer un élément, la fonction peut juste appeler la fonction `L.pop()` (sans argument) pour supprimer la dernière case."
   ]
  },
  {
   "cell_type": "code",
   "execution_count": 25,
   "id": "fa339633",
   "metadata": {
    "tags": [
     "answer"
    ]
   },
   "outputs": [
    {
     "data": {
      "text/plain": [
       "[1, 2, 3, 5, 7, 9, 0, 4]"
      ]
     },
     "execution_count": 25,
     "metadata": {},
     "output_type": "execute_result"
    }
   ],
   "source": [
    "def suppression_tableau(L,i):\n",
    "    for j in range(i,len(L)-i+1):\n",
    "        L[j]=L[j+1]\n",
    "    \n",
    "    L.pop()\n",
    "    return L\n",
    "\n",
    "\n",
    "suppression_tableau([1,2,3,3,5,7,9,0,4],2)\n"
   ]
  },
  {
   "cell_type": "markdown",
   "id": "2cc167ce",
   "metadata": {
    "deletable": false,
    "editable": false,
    "run_control": {
     "frozen": true
    }
   },
   "source": [
    "Quelle est la complexité de la fonction `suppression_tableau` ?"
   ]
  },
  {
   "cell_type": "markdown",
   "id": "28fa8738",
   "metadata": {
    "deletable": false,
    "run_control": {
     "frozen": false
    },
    "tags": [
     "answer"
    ]
   },
   "source": [
    "**Réponse :** Écrire votre réponse ici.\n",
    "O(3n+2)\n",
    "\n"
   ]
  },
  {
   "cell_type": "markdown",
   "id": "7dada39b",
   "metadata": {
    "deletable": false,
    "editable": false,
    "run_control": {
     "frozen": true
    }
   },
   "source": [
    "## Exercice 3 : Copie d'un tableau"
   ]
  },
  {
   "cell_type": "markdown",
   "id": "0af1877d",
   "metadata": {
    "deletable": false,
    "editable": false,
    "run_control": {
     "frozen": true
    }
   },
   "source": [
    "Définir la fonction `copie_tableau` retournant une copie du tableau `L` passé en paramètre (fonction comparable à `L.copy()`). \n",
    "\n",
    "Cette fonction ne doit pas utiliser la fonction `L.copy`, seule la fonction `L.append` est permise pour augmenter la taille du tableau."
   ]
  },
  {
   "cell_type": "code",
   "execution_count": 28,
   "id": "d7fb00e3",
   "metadata": {
    "tags": []
   },
   "outputs": [
    {
     "name": "stdout",
     "output_type": "stream",
     "text": [
      "[1, 2, 3, 3, 7, 8]\n"
     ]
    }
   ],
   "source": [
    "def copie_tableau(L):\n",
    "    L2=[]\n",
    "    for i in range(len(L)):\n",
    "        L2.append(L[i])\n",
    "\n",
    "    return L2\n",
    "\n",
    "\n",
    "L=[1,2,3,3,7,8]\n",
    "L2=copie_tableau(L)\n",
    "\n",
    "L[2]=6\n",
    "print(L2)\n"
   ]
  },
  {
   "cell_type": "markdown",
   "id": "b0785f61",
   "metadata": {
    "deletable": false,
    "editable": false,
    "run_control": {
     "frozen": true
    }
   },
   "source": [
    "Quelle est la complexité asymptotique de la fonction `copie_tableau` ?"
   ]
  },
  {
   "cell_type": "markdown",
   "id": "00a68993",
   "metadata": {
    "deletable": false,
    "run_control": {
     "frozen": false
    },
    "tags": [
     "answer"
    ]
   },
   "source": [
    "**Réponse :** Écrire votre réponse ici.\n",
    "O(n+2)\n",
    "\n"
   ]
  },
  {
   "cell_type": "markdown",
   "id": "30449692",
   "metadata": {
    "deletable": false,
    "editable": false,
    "run_control": {
     "frozen": true
    }
   },
   "source": [
    "## Exercice 4 : Fonctions sur des  listes (tableaux) triées ou non triées"
   ]
  },
  {
   "cell_type": "markdown",
   "id": "9867b667",
   "metadata": {
    "deletable": false,
    "editable": false,
    "run_control": {
     "frozen": true
    }
   },
   "source": [
    "Les questions de cet exercice ont pour objet de manipuler les listes/tableaux en Python et de comparer ce qui se passe si on travaille avec des tableaux triés ou des tableaux quelconques. Pour chacune des fonctions à implémenter, on définira deux versions : \n",
    "\n",
    "* une première version prendra en paramètre une liste de nombres quelconques. Pour plus d'efficacité, la fonction pourra modifier l'ordre des éléments dans la liste,\n",
    "\n",
    "* la seconde version prendra en paramètre une liste de nombres triés dans l'ordre croissant ; la liste devra rester triée."
   ]
  },
  {
   "cell_type": "markdown",
   "id": "c2175883",
   "metadata": {
    "deletable": false,
    "editable": false,
    "run_control": {
     "frozen": true
    }
   },
   "source": [
    "### Question 1 : Minimum d'un tableau"
   ]
  },
  {
   "cell_type": "markdown",
   "id": "c840d53a",
   "metadata": {
    "deletable": false,
    "editable": false,
    "run_control": {
     "frozen": true
    }
   },
   "source": [
    "* Définir la fonction `minimum_tableau` prenant en paramètre un tableau de nombres et retournant le minimum."
   ]
  },
  {
   "cell_type": "code",
   "execution_count": 69,
   "id": "aa986243",
   "metadata": {
    "tags": [
     "answer"
    ]
   },
   "outputs": [
    {
     "name": "stdout",
     "output_type": "stream",
     "text": [
      "[0, 1, 2, 3, 4, 5, 6, 7, 8, 9]\n"
     ]
    },
    {
     "data": {
      "text/plain": [
       "0"
      ]
     },
     "execution_count": 69,
     "metadata": {},
     "output_type": "execute_result"
    }
   ],
   "source": [
    "def minimum_tableau(L):\n",
    "    L.sort()\n",
    "    return L[0]\n",
    "\n",
    "def minimum_tableau_2(L):\n",
    "    min=0\n",
    "    for i in range(len(L)):\n",
    "        if L[i]<L[i-1]:\n",
    "            min=i\n",
    "    \n",
    "    return L[min]\n",
    "\n",
    "L=[]\n",
    "for i in range (10):\n",
    "\n",
    "    L.append(i)\n",
    "print(L)\n",
    "minimum_tableau_2(L)\n"
   ]
  },
  {
   "cell_type": "markdown",
   "id": "3211fdf1",
   "metadata": {
    "deletable": false,
    "editable": false,
    "run_control": {
     "frozen": true
    }
   },
   "source": [
    "* Définir la fonction `minimum_tableau_trie` prenant en paramètre un tableau de nombres triés dans l'ordre croissant et retournant le minimum."
   ]
  },
  {
   "cell_type": "code",
   "execution_count": null,
   "id": "58d38a50",
   "metadata": {
    "tags": [
     "answer"
    ]
   },
   "outputs": [],
   "source": [
    "############################## \n",
    "#   Saisir votre code ici.   #\n",
    "##############################\n",
    "def minimum_tableau_trie(L):\n",
    "    return L[0]\n",
    "\n"
   ]
  },
  {
   "cell_type": "markdown",
   "id": "29b5bb77",
   "metadata": {
    "deletable": false,
    "editable": false,
    "run_control": {
     "frozen": true
    }
   },
   "source": [
    "- Quelle est la complexité dans le pire des cas de chacune de ces fonctions ?\n",
    "\n",
    "O(2)\n",
    "O(2n+2)\n",
    "O(1)"
   ]
  },
  {
   "cell_type": "markdown",
   "id": "2665a121",
   "metadata": {
    "deletable": false,
    "run_control": {
     "frozen": false
    },
    "tags": [
     "answer"
    ]
   },
   "source": [
    "**Réponse :** Écrire votre réponse ici.\n",
    "\n",
    "\n"
   ]
  },
  {
   "cell_type": "markdown",
   "id": "3214658b",
   "metadata": {
    "deletable": false,
    "editable": false,
    "run_control": {
     "frozen": true
    }
   },
   "source": [
    "### Question 2 : Ajout d'un élément"
   ]
  },
  {
   "cell_type": "markdown",
   "id": "6035090e",
   "metadata": {
    "deletable": false,
    "editable": false,
    "run_control": {
     "frozen": true
    }
   },
   "source": [
    "* Définir la fonction `ajouter_tableau` ajoutant un nombre à un tableau de nombres."
   ]
  },
  {
   "cell_type": "code",
   "execution_count": 41,
   "id": "f2eae188",
   "metadata": {
    "tags": [
     "answer"
    ]
   },
   "outputs": [
    {
     "data": {
      "text/plain": [
       "[1, -2, 0, 3, 0, -4, 0, 5, 4]"
      ]
     },
     "execution_count": 41,
     "metadata": {},
     "output_type": "execute_result"
    }
   ],
   "source": [
    "############################## \n",
    "#   Saisir votre code ici.   #\n",
    "##############################\n",
    "def ajouter_tableau(L,n):\n",
    "    L.append(n)\n",
    "    return L\n",
    "\n",
    "ajouter_tableau([1, -2, 0, 3, 0, -4, 0, 5],4)\n"
   ]
  },
  {
   "cell_type": "markdown",
   "id": "38a183e7",
   "metadata": {
    "deletable": false,
    "editable": false,
    "run_control": {
     "frozen": true
    }
   },
   "source": [
    "* Définir la fonction `ajouter_tableau_trie` ajoutant un nombre à un tableau trié."
   ]
  },
  {
   "cell_type": "code",
   "execution_count": 54,
   "id": "098e538d",
   "metadata": {
    "tags": [
     "answer"
    ]
   },
   "outputs": [
    {
     "data": {
      "text/plain": [
       "[6, 12, 23, 34, 45]"
      ]
     },
     "execution_count": 54,
     "metadata": {},
     "output_type": "execute_result"
    }
   ],
   "source": [
    "############################## \n",
    "#   Saisir votre code ici.   #\n",
    "##############################\n",
    "def ajouter_tableau_trie(L,n):\n",
    "    i=0\n",
    "    while (n > L[i]) and (i< len(L)-1):\n",
    "        i+=1\n",
    "        print(i)\n",
    "    L.insert(i,n)\n",
    "\n",
    "    return L\n",
    "\n",
    "\n",
    "ajouter_tableau_trie([12, 23, 34, 45],6)\n",
    "\n",
    "\n"
   ]
  },
  {
   "cell_type": "markdown",
   "id": "a526e68d",
   "metadata": {
    "deletable": false,
    "editable": false,
    "run_control": {
     "frozen": true
    }
   },
   "source": [
    "- Quelle est la complexité dans le pire des cas de chacune de ces fonctions ?"
   ]
  },
  {
   "cell_type": "markdown",
   "id": "5d50a0ba",
   "metadata": {
    "deletable": false,
    "run_control": {
     "frozen": false
    },
    "tags": [
     "answer"
    ]
   },
   "source": [
    "**Réponse :** Écrire votre réponse ici.\n",
    "O(1)\n",
    "O(3n)\n",
    "\n"
   ]
  },
  {
   "cell_type": "markdown",
   "id": "b96fe4a7",
   "metadata": {
    "deletable": false,
    "editable": false,
    "run_control": {
     "frozen": true
    }
   },
   "source": [
    "### Question 3 : Suppression d'un élément"
   ]
  },
  {
   "cell_type": "markdown",
   "id": "8c9ae7b1",
   "metadata": {
    "deletable": false,
    "editable": false,
    "run_control": {
     "frozen": true
    }
   },
   "source": [
    "* Définir la fonction `supprimer_tableau` prenant en paramètre un tableau et un indice `id` et supprimant dans le tableau la valeur d'indice `id`.\n",
    "\n",
    "  On utilisera pour cela la fonction `L.pop()` qui supprime la dernière case d'un tableau, mais pas la fonction `L.pop(i)`"
   ]
  },
  {
   "cell_type": "code",
   "execution_count": 65,
   "id": "dd3a8d1b",
   "metadata": {
    "tags": [
     "answer"
    ]
   },
   "outputs": [
    {
     "data": {
      "text/plain": [
       "[12, 23, 45]"
      ]
     },
     "execution_count": 65,
     "metadata": {},
     "output_type": "execute_result"
    }
   ],
   "source": [
    "############################## \n",
    "#   Saisir votre code ici.   #\n",
    "##############################\n",
    "def supprimer_tableau(L,id):\n",
    "    for i in range(id,len(L)-1):\n",
    "    \n",
    "        L[i]=L[i+1]\n",
    "        \n",
    "    L.pop()\n",
    "    return L\n",
    "\n",
    "L=[12, 23, 34, 45]\n",
    "supprimer_tableau(L,2)"
   ]
  },
  {
   "cell_type": "markdown",
   "id": "666cbb67",
   "metadata": {
    "deletable": false,
    "editable": false,
    "run_control": {
     "frozen": true
    }
   },
   "source": [
    "* Définir la fonction `supprimer_tableau_trie` prenant en paramètre un tableau trié et un indice `id` et supprimant dans le tableau la valeur d'indice `id`."
   ]
  },
  {
   "cell_type": "code",
   "execution_count": 67,
   "id": "00cfbcd8",
   "metadata": {
    "tags": [
     "answer"
    ]
   },
   "outputs": [
    {
     "data": {
      "text/plain": [
       "[1, -2, 0, 3, -4, 0, 5]"
      ]
     },
     "execution_count": 67,
     "metadata": {},
     "output_type": "execute_result"
    }
   ],
   "source": [
    "############################## \n",
    "#   Saisir votre code ici.   #\n",
    "##############################\n",
    "def supprimer_tableau_trie(L,id):\n",
    "    for i in range(id,len(L)-1):\n",
    "    \n",
    "        L[i]=L[i+1]\n",
    "        \n",
    "    L.pop()\n",
    "    return L\n",
    "\n",
    "supprimer_tableau_trie([1, -2, 0, 3, 0, -4, 0, 5],4)"
   ]
  },
  {
   "cell_type": "markdown",
   "id": "526fe9d9",
   "metadata": {
    "deletable": false,
    "editable": false,
    "run_control": {
     "frozen": true
    }
   },
   "source": [
    "- Quelle est la complexité dans le pire des cas de chacune de ces fonctions ?"
   ]
  },
  {
   "cell_type": "markdown",
   "id": "49c8a73c",
   "metadata": {
    "deletable": false,
    "run_control": {
     "frozen": false
    },
    "tags": [
     "answer"
    ]
   },
   "source": [
    "**Réponse :** Écrire votre réponse ici.\n",
    "O(3n+1)\n",
    "\n"
   ]
  },
  {
   "cell_type": "markdown",
   "id": "9e746336",
   "metadata": {
    "deletable": false,
    "editable": false,
    "run_control": {
     "frozen": true
    }
   },
   "source": [
    "## Exercice 5 : Réarrangement de tableau**"
   ]
  },
  {
   "cell_type": "markdown",
   "id": "43c2b933",
   "metadata": {
    "deletable": false,
    "editable": false,
    "run_control": {
     "frozen": true
    }
   },
   "source": [
    "### Question 1\n",
    "\n",
    "Écrire une fonction `deplacer(T, k)` prenant en paramètre un tableau `T` et une valeur `k` et permutant les valeurs du tableau `T` de manière à ce que toutes les valeurs strictement inférieures à `k` soient au début de tableau. "
   ]
  },
  {
   "cell_type": "markdown",
   "id": "40b5cc26",
   "metadata": {
    "deletable": false,
    "editable": false,
    "run_control": {
     "frozen": true
    }
   },
   "source": [
    "**Remarque :** L'ordre des éléments dans le tableau n'a pas d'importance tant que les éléments strictement inférieurs à `k` sont placés au début du tableau."
   ]
  },
  {
   "cell_type": "code",
   "execution_count": 92,
   "id": "18f32d20",
   "metadata": {
    "tags": [
     "answer"
    ]
   },
   "outputs": [
    {
     "name": "stdout",
     "output_type": "stream",
     "text": [
      "Ti= 1\n",
      "[1, -2, 0, 3, 9, -2, 0, -4, 0, 5]\n",
      "Ti= -2\n",
      "Tj= 1\n",
      "[-2, 1, 0, 3, 9, -2, 0, -4, 0, 5]\n",
      "Ti= 0\n",
      "[-2, 1, 0, 3, 9, -2, 0, -4, 0, 5]\n",
      "Ti= 3\n",
      "[-2, 1, 0, 3, 9, -2, 0, -4, 0, 5]\n",
      "Ti= 9\n",
      "[-2, 1, 0, 3, 9, -2, 0, -4, 0, 5]\n",
      "Ti= -2\n",
      "j= 0\n",
      "Tj= 1\n",
      "[-2, -2, 0, 3, 9, 1, 0, -4, 0, 5]\n",
      "Ti= 0\n",
      "[-2, -2, 0, 3, 9, 1, 0, -4, 0, 5]\n",
      "Ti= -4\n",
      "j= 0\n",
      "j= 1\n",
      "Tj= 0\n",
      "[-2, -2, -4, 3, 9, 1, 0, 0, 0, 5]\n",
      "Ti= 0\n",
      "[-2, -2, -4, 3, 9, 1, 0, 0, 0, 5]\n",
      "Ti= 5\n",
      "[-2, -2, -4, 3, 9, 1, 0, 0, 0, 5]\n"
     ]
    },
    {
     "data": {
      "text/plain": [
       "[-2, -2, -4, 3, 9, 1, 0, 0, 0, 5]"
      ]
     },
     "execution_count": 92,
     "metadata": {},
     "output_type": "execute_result"
    }
   ],
   "source": [
    "############################## \n",
    "#   Saisir votre code ici.   #\n",
    "##############################\n",
    "\n",
    "def deplacer(T,k):\n",
    "    for i in range(len(T)):\n",
    "        print('Ti=',T[i])\n",
    "        if T[i]<k:\n",
    "            \n",
    "            j=0\n",
    "            while T[j] < k and i>=j and j<len(T):\n",
    "                print('j=',j)\n",
    "                j+=1\n",
    "            print('Tj=',T[j])\n",
    "            if T[j]<k:\n",
    "                return T\n",
    "            \n",
    "            else:\n",
    "                T[i],T[j]=T[j],T[i]\n",
    "        print(T)\n",
    "    return T\n",
    "            \n",
    "            \n",
    "    \n",
    "            \n",
    "\n",
    "\n",
    "T=[1, -2, 0, 3, 9,-2,0, -4, 0, 5]\n",
    "deplacer(T,0)\n",
    "    \n"
   ]
  },
  {
   "cell_type": "markdown",
   "id": "ee80c1d3",
   "metadata": {
    "deletable": false,
    "editable": false,
    "run_control": {
     "frozen": true
    }
   },
   "source": [
    "### Question 2\n",
    "\n",
    "Définir une fonction de tests unitaires de la fonction `deplacer`."
   ]
  },
  {
   "cell_type": "code",
   "execution_count": 75,
   "id": "297f0c9e",
   "metadata": {
    "tags": [
     "answer"
    ]
   },
   "outputs": [],
   "source": [
    "############################## \n",
    "#   Saisir votre code ici.   #\n",
    "##############################\n",
    "def test():\n",
    "    assert deplacer(T,0),'faux'\n",
    "\n"
   ]
  },
  {
   "cell_type": "code",
   "execution_count": null,
   "id": "1a325da0",
   "metadata": {},
   "outputs": [],
   "source": []
  }
 ],
 "metadata": {
  "celltoolbar": "Format de la Cellule Texte Brut",
  "kernelspec": {
   "display_name": "Python 3",
   "language": "python",
   "name": "python3"
  },
  "language_info": {
   "codemirror_mode": {
    "name": "ipython",
    "version": 3
   },
   "file_extension": ".py",
   "mimetype": "text/x-python",
   "name": "python",
   "nbconvert_exporter": "python",
   "pygments_lexer": "ipython3",
   "version": "3.11.4"
  },
  "toc": {
   "base_numbering": 1,
   "nav_menu": {},
   "number_sections": false,
   "sideBar": false,
   "skip_h1_title": false,
   "title_cell": "Table of Contents",
   "title_sidebar": "Contents",
   "toc_cell": false,
   "toc_position": {},
   "toc_section_display": false,
   "toc_window_display": false
  }
 },
 "nbformat": 4,
 "nbformat_minor": 5
}
